{
  "nbformat": 4,
  "nbformat_minor": 0,
  "metadata": {
    "colab": {
      "name": "CryptoMarketDataAverage.ipynb",
      "provenance": [],
      "authorship_tag": "ABX9TyPMjoChaqGqpILw8fz80djw",
      "include_colab_link": true
    },
    "kernelspec": {
      "name": "python3",
      "display_name": "Python 3"
    },
    "language_info": {
      "name": "python"
    }
  },
  "cells": [
    {
      "cell_type": "markdown",
      "metadata": {
        "id": "view-in-github",
        "colab_type": "text"
      },
      "source": [
        "<a href=\"https://colab.research.google.com/github/donkeyson/CrypotoMarketDataAverage/blob/main/CryptoMarketDataAverage.ipynb\" target=\"_parent\"><img src=\"https://colab.research.google.com/assets/colab-badge.svg\" alt=\"Open In Colab\"/></a>"
      ]
    },
    {
      "cell_type": "code",
      "execution_count": 4,
      "metadata": {
        "id": "Id7MGHqUmszG"
      },
      "outputs": [],
      "source": [
        "#요구하는 데이터를 모두 입력해주어야 함.\n",
        "sum = []"
      ]
    },
    {
      "cell_type": "code",
      "source": [
        "con = input('Is Funding Rates positive? say it yes or no: ')\n",
        "\n",
        "if (con == 'yes'):\n",
        "  sum.append(-1)\n",
        "elif (con == 'no'):\n",
        "  sum.append(1)\n",
        "else:\n",
        "  print('say it yes or no')"
      ],
      "metadata": {
        "colab": {
          "base_uri": "https://localhost:8080/"
        },
        "id": "yEXbSN95nC5v",
        "outputId": "d2249365-abd2-4602-d718-a87ab8f835fb"
      },
      "execution_count": 5,
      "outputs": [
        {
          "name": "stdout",
          "output_type": "stream",
          "text": [
            "Is Funding Rates positive? say it yes or nono\n"
          ]
        }
      ]
    },
    {
      "cell_type": "code",
      "source": [
        "con = input('Is Leverage Ratio growing? say it yes or no: ')\n",
        "con2 = input('Is Price trend low? say it yes or no: ')\n",
        "\n",
        "if ((con == 'yes') and (con2 == 'yes')):\n",
        "  sum.append(1)\n",
        "elif ((con == 'yes') and (con2 == 'no')):\n",
        "  sum.append(-1)\n",
        "elif ((con == 'no') and (con2 == 'yes')):\n",
        "  print('')\n",
        "elif ((con == 'no') and (con2 == 'no')):\n",
        "  print('')\n",
        "else:\n",
        "  print('say it yes or no')"
      ],
      "metadata": {
        "colab": {
          "base_uri": "https://localhost:8080/"
        },
        "id": "wLVh1s--njv8",
        "outputId": "414ced3b-1395-47af-b5ac-5683ab96e13e"
      },
      "execution_count": 6,
      "outputs": [
        {
          "name": "stdout",
          "output_type": "stream",
          "text": [
            "Is Leverage Ratio growing? say it yes or noyes\n",
            "Is Price trend low? say it yes or noyes\n"
          ]
        }
      ]
    },
    {
      "cell_type": "code",
      "source": [
        "con = float(input('input value of MVRV Ratio: '))\n",
        "\n",
        "if (con > 3):\n",
        "  sum.append(-2)\n",
        "elif (con > 2):\n",
        "  sum.append(-1)\n",
        "elif (con > 1):\n",
        "  sum.append(1)\n",
        "elif (1 >= con):\n",
        "  sum.append(2)"
      ],
      "metadata": {
        "colab": {
          "base_uri": "https://localhost:8080/"
        },
        "id": "7iUhm6q3oyFV",
        "outputId": "c489d983-44b5-4eee-d4ba-7935c2cd7648"
      },
      "execution_count": 8,
      "outputs": [
        {
          "name": "stdout",
          "output_type": "stream",
          "text": [
            "input value of MVRV Ratio: 1.7\n"
          ]
        }
      ]
    },
    {
      "cell_type": "code",
      "source": [
        "con = input('Is SOPR Ratio growing? say it yes or no: ')\n",
        "\n",
        "if (con == 'yes'):\n",
        "  sum.append(-1)\n",
        "elif (con == 'no'):\n",
        "  sum.append(1)\n",
        "else:\n",
        "  print('say it yes or no')"
      ],
      "metadata": {
        "colab": {
          "base_uri": "https://localhost:8080/"
        },
        "id": "HEgG3Z7YpB5M",
        "outputId": "6d5127cd-a05a-4972-c550-0da374f909e7"
      },
      "execution_count": 9,
      "outputs": [
        {
          "name": "stdout",
          "output_type": "stream",
          "text": [
            "Is SOPR Ratio growing? say it yes or nono\n"
          ]
        }
      ]
    },
    {
      "cell_type": "code",
      "source": [
        "con = float(input('input value of PuelMultiple: '))\n",
        "\n",
        "if (con >= 2):\n",
        "  sum.append(-2)\n",
        "elif (2> con >= 1.5):\n",
        "  sum.append(-1)\n",
        "elif (1.5 > con >= 1):\n",
        "  print('')\n",
        "elif (con > 1):\n",
        "  sum.append(2)"
      ],
      "metadata": {
        "colab": {
          "base_uri": "https://localhost:8080/"
        },
        "id": "frWYpI6ZpMI-",
        "outputId": "3f0cef62-4591-4e10-af82-053e9da6c050"
      },
      "execution_count": 10,
      "outputs": [
        {
          "output_type": "stream",
          "name": "stdout",
          "text": [
            "input value of PuelMultiple: 1.06\n",
            "\n"
          ]
        }
      ]
    },
    {
      "cell_type": "code",
      "source": [
        "con = input('Is FundFlow growing? say it yes or no: ')\n",
        "\n",
        "if (con == 'yes'):\n",
        "  sum.append(-1)\n",
        "elif (con == 'no'):\n",
        "  sum.append(1)\n",
        "else:\n",
        "  print('say it yes or no')"
      ],
      "metadata": {
        "colab": {
          "base_uri": "https://localhost:8080/"
        },
        "id": "5ppDnQXkpcez",
        "outputId": "867e7c4a-745d-4e67-820e-4da65ce95739"
      },
      "execution_count": 11,
      "outputs": [
        {
          "name": "stdout",
          "output_type": "stream",
          "text": [
            "Is FundFlow growing? say it yes or nono\n"
          ]
        }
      ]
    },
    {
      "cell_type": "code",
      "source": [
        "con = input('Is Exchange Stablecoins Ratio growing? say it yes or no: ')\n",
        "\n",
        "if (con == 'yes'):\n",
        "  sum.append(-1)\n",
        "elif (con == 'no'):\n",
        "  sum.append(1)\n",
        "else:\n",
        "  print('say it yes or no')"
      ],
      "metadata": {
        "colab": {
          "base_uri": "https://localhost:8080/"
        },
        "id": "Lh4TAJFSpmmE",
        "outputId": "7b964350-4b27-4ab3-bbdd-c6f0518687fe"
      },
      "execution_count": 12,
      "outputs": [
        {
          "name": "stdout",
          "output_type": "stream",
          "text": [
            "Is Exchange Stablecoins Ratio growing? say it yes or nono\n"
          ]
        }
      ]
    },
    {
      "cell_type": "code",
      "source": [
        "con = input('is hash rate under the price? say it yes or no: ')\n",
        "if (con == 'yes'):\n",
        "  sum.append(-1)\n",
        "elif (con == 'no'):\n",
        "  sum.append(1)\n",
        "else:\n",
        "  print('say it yes or no')"
      ],
      "metadata": {
        "colab": {
          "base_uri": "https://localhost:8080/"
        },
        "id": "YsjI5lx7pvCF",
        "outputId": "19dd159d-f7a1-4490-90e4-7be956a21aea"
      },
      "execution_count": 14,
      "outputs": [
        {
          "name": "stdout",
          "output_type": "stream",
          "text": [
            "is hash rate under the price? say it yes or no: yes\n"
          ]
        }
      ]
    },
    {
      "cell_type": "code",
      "source": [
        "con = input('Is Miner Reserve growing? say it yes or no: ')\n",
        "\n",
        "if (con == 'yes'):\n",
        "  sum.append(1)\n",
        "elif (con == 'no'):\n",
        "  sum.append(-1)\n",
        "else:\n",
        "  print('say it yes or no')"
      ],
      "metadata": {
        "colab": {
          "base_uri": "https://localhost:8080/"
        },
        "id": "bkqxEYgrqLWE",
        "outputId": "4c4d210e-ea96-470b-8587-fe39a3388b01"
      },
      "execution_count": 15,
      "outputs": [
        {
          "name": "stdout",
          "output_type": "stream",
          "text": [
            "Is Miner Reserve growing? say it yes or no: yes\n"
          ]
        }
      ]
    },
    {
      "cell_type": "code",
      "source": [
        "con = int(input('input value of Fear & Greed Index: '))\n",
        "\n",
        "if (con >= 80):\n",
        "  sum.append(-3)\n",
        "  print('strong sell signal in Fear and Greed Index')\n",
        "elif (80 > con >= 60):\n",
        "  sum.append(-2)\n",
        "elif (60 > con >= 40):\n",
        "  sum.append(-1)\n",
        "elif (40 > con >= 30):\n",
        "  print('')\n",
        "elif (30 > con >= 20):\n",
        "  sum.append(1)\n",
        "elif (20 > con):\n",
        "  sum.append(2)\n",
        "  print('strong buy signal on Fear and Greed Index')"
      ],
      "metadata": {
        "colab": {
          "base_uri": "https://localhost:8080/"
        },
        "id": "HEO5TUMvqSjU",
        "outputId": "6b56707e-5501-493e-83f8-c6404f2518a7"
      },
      "execution_count": 17,
      "outputs": [
        {
          "name": "stdout",
          "output_type": "stream",
          "text": [
            "input value of Fear & Greed Index: 21\n"
          ]
        }
      ]
    },
    {
      "cell_type": "code",
      "source": [
        "con = float(input('input value of Korea Premium Index: '))\n",
        "\n",
        "if (con >= 9):\n",
        "  sum.append(-3)\n",
        "elif (9 > con >= 6):\n",
        "  sum.append(-2)\n",
        "elif (6 > con >= 4):\n",
        "  sum.append(-1)\n",
        "elif (4 > con >= 2):\n",
        "  print('')\n",
        "elif (2 > con >= 0):\n",
        "  sum.append(1)\n",
        "elif (0 > con):\n",
        "  sum.append(3)\n",
        "  print('strong buy signal on Kimchi Premium')"
      ],
      "metadata": {
        "colab": {
          "base_uri": "https://localhost:8080/"
        },
        "id": "neidaIBvqmpx",
        "outputId": "cad63397-9883-4b8c-f9f0-147772bdb5e3"
      },
      "execution_count": 18,
      "outputs": [
        {
          "name": "stdout",
          "output_type": "stream",
          "text": [
            "input value of Korea Premium Index1.92\n"
          ]
        }
      ]
    },
    {
      "cell_type": "code",
      "source": [
        "total = 0\n",
        "for i in sum:\n",
        "  total += i"
      ],
      "metadata": {
        "id": "IbGzclYKrMKm"
      },
      "execution_count": 21,
      "outputs": []
    },
    {
      "cell_type": "code",
      "source": [
        "avg = total / len(sum)\n",
        "\n",
        "dailyAvg = [] #매일 업데이트 해주어야 하는 항목"
      ],
      "metadata": {
        "id": "X_dam0x3m00K"
      },
      "execution_count": 22,
      "outputs": []
    },
    {
      "cell_type": "code",
      "source": [
        "dailyAvg.append(avg)"
      ],
      "metadata": {
        "id": "DHGMzoSEnfCH"
      },
      "execution_count": 23,
      "outputs": []
    },
    {
      "cell_type": "code",
      "source": [
        "#첫째날 값 0.8\n",
        "print(dailyAvg)"
      ],
      "metadata": {
        "colab": {
          "base_uri": "https://localhost:8080/"
        },
        "id": "PU5Zol3WroWf",
        "outputId": "d095aec2-40d3-4428-b55e-4c3aeec248ab"
      },
      "execution_count": 27,
      "outputs": [
        {
          "output_type": "stream",
          "name": "stdout",
          "text": [
            "[0.8]\n"
          ]
        }
      ]
    },
    {
      "cell_type": "code",
      "source": [
        "import matplotlib.pyplot as plt\n",
        "\n",
        "x = range(0, 1)\n",
        "y = dailyAvg\n",
        "plt.plot(x, y, 'red')"
      ],
      "metadata": {
        "colab": {
          "base_uri": "https://localhost:8080/",
          "height": 283
        },
        "id": "VnHV14APq78M",
        "outputId": "0324623a-3411-4ca7-95d7-fd990ae9b0e6"
      },
      "execution_count": 26,
      "outputs": [
        {
          "output_type": "execute_result",
          "data": {
            "text/plain": [
              "[<matplotlib.lines.Line2D at 0x7fdb75aca7d0>]"
            ]
          },
          "metadata": {},
          "execution_count": 26
        },
        {
          "output_type": "display_data",
          "data": {
            "image/png": "[encoded data removed]",
            "text/plain": [
              "<Figure size 432x288 with 1 Axes>"
            ]
          },
          "metadata": {
            "needs_background": "light"
          }
        }
      ]
    },
    {
      "cell_type": "code",
      "source": [
        ""
      ],
      "metadata": {
        "id": "toRHiIOqrWYH"
      },
      "execution_count": null,
      "outputs": []
    }
  ]
}